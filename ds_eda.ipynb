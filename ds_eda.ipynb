{
 "cells": [
  {
   "cell_type": "code",
   "execution_count": 20,
   "metadata": {},
   "outputs": [],
   "source": [
    "import pandas as pd\n",
    "import matplotlib.pyplot as plt\n",
    "import seaborn as sns"
   ]
  },
  {
   "cell_type": "code",
   "execution_count": 21,
   "metadata": {
    "scrolled": true
   },
   "outputs": [
    {
     "data": {
      "text/plain": [
       "Index(['Unnamed: 0', 'Company Name', 'Datum', 'Status Rocket',\n",
       "       'Costs (Mio. USD)', 'Status Mission', 'Site', 'Country', 'Rocket',\n",
       "       'Satellite'],\n",
       "      dtype='object')"
      ]
     },
     "execution_count": 21,
     "metadata": {},
     "output_type": "execute_result"
    }
   ],
   "source": [
    "df = pd.read_csv(\"data/space_corrected_cleaned.csv\")\n",
    "df.columns"
   ]
  },
  {
   "cell_type": "code",
   "execution_count": 26,
   "metadata": {},
   "outputs": [
    {
     "data": {
      "text/plain": [
       "RVSN USSR           1777\n",
       "Arianespace          279\n",
       "General Dynamics     251\n",
       "CASC                 251\n",
       "NASA                 203\n",
       "VKS RF               201\n",
       "US Air Force         161\n",
       "ULA                  140\n",
       "Boeing               136\n",
       "Martin Marietta      114\n",
       "SpaceX               100\n",
       "MHI                   84\n",
       "Northrop              83\n",
       "Lockheed              79\n",
       "ISRO                  76\n",
       "Roscosmos             55\n",
       "ILS                   46\n",
       "Sea Launch            36\n",
       "ISAS                  30\n",
       "Kosmotras             22\n",
       "US Navy               17\n",
       "Rocket Lab            13\n",
       "Eurockot              13\n",
       "ESA                   13\n",
       "ISA                   13\n",
       "Blue Origin           12\n",
       "IAI                   11\n",
       "ExPace                10\n",
       "ASI                    9\n",
       "CNES                   8\n",
       "AMBA                   8\n",
       "JAXA                   7\n",
       "MITT                   7\n",
       "Land Launch            7\n",
       "CASIC                  5\n",
       "UT                     5\n",
       "KCST                   5\n",
       "Arm??e de l'Air        4\n",
       "Exos                   4\n",
       "CECLES                 4\n",
       "AEB                    3\n",
       "SRC                    3\n",
       "KARI                   3\n",
       "OKB-586                2\n",
       "RAE                    2\n",
       "Yuzhmash               2\n",
       "IRGC                   1\n",
       "Landspace              1\n",
       "i-Space                1\n",
       "OneSpace               1\n",
       "Khrunichev             1\n",
       "Starsem                1\n",
       "EER                    1\n",
       "Virgin Orbit           1\n",
       "Sandia                 1\n",
       "Douglas                1\n",
       "Name: Company Name, dtype: int64"
      ]
     },
     "execution_count": 26,
     "metadata": {},
     "output_type": "execute_result"
    }
   ],
   "source": [
    "df['Company Name'].value_counts()\n",
    "\n",
    "#df['Costs (Mio. USD)'].value_counts()"
   ]
  },
  {
   "cell_type": "code",
   "execution_count": 27,
   "metadata": {},
   "outputs": [
    {
     "data": {
      "text/plain": [
       "[' Russia']                            1395\n",
       "[' USA']                               1344\n",
       "[' Kazakhstan']                         701\n",
       "[' France']                             303\n",
       "[' China']                              268\n",
       "[' Japan']                              126\n",
       "[' India']                               76\n",
       "[' Pacific Ocean']                       36\n",
       "[' Iran']                                13\n",
       "[' New Zealand']                         13\n",
       "[' Israel']                              11\n",
       "[' Kenya']                                9\n",
       "[' Australia']                            6\n",
       "[' North Korea']                          5\n",
       "[' New Mexico']                           4\n",
       "[' Barents Sea']                          3\n",
       "[' Brazil']                               3\n",
       "[' South Korea']                          3\n",
       "[' Gran Canaria']                         2\n",
       "[' Shahrud Missile Test Site']            1\n",
       "[' Yellow Sea']                           1\n",
       "[' Pacific Missile Range Facility']       1\n",
       "Name: Country, dtype: int64"
      ]
     },
     "execution_count": 27,
     "metadata": {},
     "output_type": "execute_result"
    }
   ],
   "source": [
    "df['Country'].value_counts()\n"
   ]
  },
  {
   "cell_type": "code",
   "execution_count": null,
   "metadata": {},
   "outputs": [],
   "source": []
  }
 ],
 "metadata": {
  "kernelspec": {
   "display_name": "Python 3",
   "language": "python",
   "name": "python3"
  },
  "language_info": {
   "codemirror_mode": {
    "name": "ipython",
    "version": 3
   },
   "file_extension": ".py",
   "mimetype": "text/x-python",
   "name": "python",
   "nbconvert_exporter": "python",
   "pygments_lexer": "ipython3",
   "version": "3.7.6"
  }
 },
 "nbformat": 4,
 "nbformat_minor": 4
}
